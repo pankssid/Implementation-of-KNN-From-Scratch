{
 "cells": [
  {
   "cell_type": "code",
   "execution_count": 4,
   "metadata": {},
   "outputs": [],
   "source": [
    "import numpy as np\n",
    "from matplotlib import pyplot as plt\n",
    "%matplotlib inline"
   ]
  },
  {
   "cell_type": "code",
   "execution_count": 5,
   "metadata": {},
   "outputs": [
    {
     "name": "stdout",
     "output_type": "stream",
     "text": [
      "(500, 2) (500, 2)\n"
     ]
    }
   ],
   "source": [
    "mean_01 = np.array([1, 0.5])\n",
    "cov_01 = np.array([[1, 0.1], [0.1, 1.2]])\n",
    "\n",
    "mean_02 = np.array([4, 5])\n",
    "cov_02 = np.array([[1, 0.1], [0.1, 1.2]])\n",
    "\n",
    "# print mean_01\n",
    "# print cov_01\n",
    "\n",
    "dist_01 = np.random.multivariate_normal(mean_01, cov_01, 500) # data points from the multivariate normal distribution\n",
    "dist_02 = np.random.multivariate_normal(mean_02, cov_02, 500)\n",
    "print dist_01.shape, dist_02.shape"
   ]
  },
  {
   "cell_type": "code",
   "execution_count": 6,
   "metadata": {},
   "outputs": [
    {
     "data": {
      "image/png": "[encoded data removed]",
      "text/plain": [
       "<Figure size 432x288 with 1 Axes>"
      ]
     },
     "metadata": {},
     "output_type": "display_data"
    }
   ],
   "source": [
    "plt.figure(0)\n",
    "plt.xlim(-5, 10)\n",
    "plt.ylim(-5, 10)\n",
    "\n",
    "plt.scatter(dist_01[:, 0], dist_01[:, 1])\n",
    "plt.scatter(dist_02[:, 0], dist_02[:, 1])#, color='red')\n",
    "plt.show()"
   ]
  },
  {
   "cell_type": "code",
   "execution_count": 8,
   "metadata": {},
   "outputs": [
    {
     "name": "stdout",
     "output_type": "stream",
     "text": [
      "(1000, 3)\n",
      "[2.48195166 2.71894537 0.5       ]\n"
     ]
    }
   ],
   "source": [
    "r = dist_01.shape[0] + dist_02.shape[0]\n",
    "c = dist_01.shape[1] + 1\n",
    "data = np.zeros((r, c))\n",
    "print data.shape\n",
    "\n",
    "data[:dist_01.shape[0], :2] = dist_01\n",
    "data[dist_01.shape[0]:, :2] = dist_02\n",
    "data[dist_01.shape[0]:, -1] = 1.0\n",
    "\n",
    "print data.mean(axis=0)"
   ]
  },
  {
   "cell_type": "code",
   "execution_count": 9,
   "metadata": {},
   "outputs": [
    {
     "name": "stdout",
     "output_type": "stream",
     "text": [
      "[[ 4.9892525   3.91236894  1.        ]\n",
      " [ 0.14302793 -1.53122866  0.        ]\n",
      " [ 4.13650159  5.80008337  1.        ]\n",
      " [ 3.57804135  4.96407435  1.        ]\n",
      " [ 1.949403   -0.12799556  0.        ]\n",
      " [ 0.79464576  0.53336646  0.        ]\n",
      " [ 0.729971    2.1153682   0.        ]\n",
      " [ 3.95873563  4.39128858  1.        ]\n",
      " [ 2.59392064  1.7756923   0.        ]\n",
      " [ 2.42741935  4.40920594  1.        ]]\n"
     ]
    }
   ],
   "source": [
    "np.random.shuffle(data)\n",
    "print data[:10]"
   ]
  },
  {
   "cell_type": "code",
   "execution_count": 13,
   "metadata": {},
   "outputs": [],
   "source": [
    "\n",
    "#x1 = (1,2,3)\n",
    "#x2 = (4,5,6)\n",
    "#sum1 = 0\n",
    "\n",
    "#for i in range(len(x1)):\n",
    "#    sum1 =  sum1 + (x1[i] - x2[i])**2\n",
    "    \n",
    "#sqrt(sum1)\n",
    "\n",
    "# prefer vectorized implementation because theyare faster \n",
    "\n",
    "def distance(x1, x2):\n",
    "    d = np.sqrt(((x1-x2)**2).sum()) # not using any loops \n",
    "    return d\n",
    "\n",
    "def knn(X_train, y_train, xt, k=7):\n",
    "    \n",
    "    vals = []\n",
    "    \n",
    "    for ix in range(X_train.shape[0]):\n",
    "        \n",
    "        d = distance(X_train[ix], xt)\n",
    "        vals.append([d, y_train[ix]])\n",
    "        \n",
    "    sorted_labels = sorted(vals, key=lambda z: z[0])\n",
    "    \n",
    "    neighbours = np.asarray(sorted_labels)[:k, -1]\n",
    "    \n",
    "    freq = np.unique(neighbours, return_counts=True) # majority voting \n",
    "    \n",
    "    return freq[0][freq[1].argmax()]"
   ]
  },
  {
   "cell_type": "code",
   "execution_count": 14,
   "metadata": {},
   "outputs": [
    {
     "name": "stdout",
     "output_type": "stream",
     "text": [
      "0.0\n"
     ]
    }
   ],
   "source": [
    "test_point = np.array([8, -4])\n",
    "\n",
    "print knn(data[:, :2], data[:, -1], test_point)"
   ]
  },
  {
   "cell_type": "code",
   "execution_count": 15,
   "metadata": {},
   "outputs": [
    {
     "name": "stdout",
     "output_type": "stream",
     "text": [
      "(750, 2) (750,)\n",
      "(250, 2) (250,)\n"
     ]
    }
   ],
   "source": [
    "np.random.shuffle(data)\n",
    "\n",
    "split = int(0.75 * data.shape[0])\n",
    "\n",
    "# print split\n",
    "\n",
    "train_data_X = data[:split, :2]\n",
    "train_data_y = data[:split, -1]\n",
    "test_data_X = data[split:, :2]\n",
    "test_data_y = data[split:, -1]\n",
    "\n",
    "print train_data_X.shape, train_data_y.shape\n",
    "print test_data_X.shape, test_data_y.shape\n",
    "\n",
    "# split the data into a 75% and 25% split overall \n"
   ]
  },
  {
   "cell_type": "code",
   "execution_count": 17,
   "metadata": {},
   "outputs": [
    {
     "name": "stdout",
     "output_type": "stream",
     "text": [
      "99.6\n"
     ]
    }
   ],
   "source": [
    "def get_acc(kx): # testing accuracy \n",
    "    preds = []\n",
    "    # print kx\n",
    "    for ix in range(test_data_X.shape[0]):\n",
    "        preds.append(knn(train_data_X, train_data_y, test_data_X[ix], k=kx))\n",
    "    preds = np.asarray(preds)\n",
    "    \n",
    "    # print preds.shape\n",
    "    return 100*float((test_data_y == preds).sum())/preds.shape[0]\n",
    "\n",
    "print get_acc(12) # k = 12 "
   ]
  },
  {
   "cell_type": "code",
   "execution_count": 18,
   "metadata": {},
   "outputs": [
    {
     "name": "stdout",
     "output_type": "stream",
     "text": [
      "k: 1 | Acc: 99.2\n",
      "k: 2 | Acc: 98.4\n",
      "k: 3 | Acc: 99.6\n",
      "k: 4 | Acc: 99.6\n",
      "k: 5 | Acc: 99.6\n",
      "k: 6 | Acc: 99.6\n",
      "k: 7 | Acc: 99.6\n",
      "k: 8 | Acc: 99.6\n",
      "k: 9 | Acc: 99.6\n",
      "k: 10 | Acc: 99.6\n",
      "k: 11 | Acc: 99.6\n",
      "k: 12 | Acc: 99.6\n",
      "k: 13 | Acc: 99.6\n",
      "k: 14 | Acc: 99.2\n",
      "k: 15 | Acc: 99.2\n",
      "k: 16 | Acc: 99.2\n",
      "k: 17 | Acc: 99.2\n",
      "k: 18 | Acc: 99.2\n",
      "k: 19 | Acc: 99.2\n",
      "k: 20 | Acc: 99.2\n",
      "k: 21 | Acc: 99.2\n",
      "k: 22 | Acc: 99.2\n",
      "k: 23 | Acc: 99.2\n",
      "k: 24 | Acc: 99.2\n",
      "k: 25 | Acc: 99.2\n",
      "k: 26 | Acc: 99.2\n",
      "k: 27 | Acc: 99.2\n",
      "k: 28 | Acc: 99.2\n",
      "k: 29 | Acc: 99.2\n",
      "k: 30 | Acc: 99.2\n",
      "k: 31 | Acc: 99.2\n",
      "k: 32 | Acc: 99.2\n",
      "k: 33 | Acc: 99.2\n",
      "k: 34 | Acc: 99.2\n",
      "k: 35 | Acc: 99.2\n",
      "k: 36 | Acc: 99.2\n",
      "k: 37 | Acc: 99.2\n",
      "k: 38 | Acc: 99.2\n",
      "k: 39 | Acc: 99.2\n",
      "k: 40 | Acc: 99.2\n",
      "k: 41 | Acc: 99.2\n",
      "k: 42 | Acc: 99.2\n",
      "k: 43 | Acc: 99.2\n",
      "k: 44 | Acc: 99.2\n",
      "k: 45 | Acc: 99.2\n",
      "k: 46 | Acc: 99.2\n",
      "k: 47 | Acc: 99.2\n",
      "k: 48 | Acc: 99.2\n",
      "k: 49 | Acc: 99.2\n"
     ]
    }
   ],
   "source": [
    "for ix in range(1, 50):\n",
    "    print \"k:\", ix, \"| Acc:\", get_acc(ix)"
   ]
  },
  {
   "cell_type": "code",
   "execution_count": 19,
   "metadata": {},
   "outputs": [],
   "source": [
    "import pandas as pd\n",
    "import datetime"
   ]
  },
  {
   "cell_type": "code",
   "execution_count": 21,
   "metadata": {},
   "outputs": [
    {
     "name": "stderr",
     "output_type": "stream",
     "text": [
      "Using TensorFlow backend.\n"
     ]
    }
   ],
   "source": [
    "import keras \n",
    "from keras.datasets import mnist"
   ]
  },
  {
   "cell_type": "code",
   "execution_count": 31,
   "metadata": {},
   "outputs": [
    {
     "name": "stdout",
     "output_type": "stream",
     "text": [
      "(2000, 785)\n"
     ]
    }
   ],
   "source": [
    "data = df.values[:2000]\n",
    "print data.shape"
   ]
  },
  {
   "cell_type": "code",
   "execution_count": 35,
   "metadata": {},
   "outputs": [
    {
     "name": "stdout",
     "output_type": "stream",
     "text": [
      "(1600, 784) (1600,)\n",
      "(400, 784) (400,)\n"
     ]
    }
   ],
   "source": [
    "# 80% 20% \n",
    "\n",
    "split = int(0.8 * data.shape[0])\n",
    "\n",
    "X_train = data[:split, 1:]\n",
    "X_test = data[split:, 1:]\n",
    "\n",
    "y_train = data[:split, 0]\n",
    "y_test = data[split:, 0]\n",
    "\n",
    "print X_train.shape, y_train.shape\n",
    "print X_test.shape, y_test.shape"
   ]
  },
  {
   "cell_type": "code",
   "execution_count": 33,
   "metadata": {},
   "outputs": [
    {
     "name": "stdout",
     "output_type": "stream",
     "text": [
      "3\n"
     ]
    },
    {
     "data": {
      "image/png": "[encoded data removed]",
      "text/plain": [
       "<matplotlib.figure.Figure at 0x7fb0146ba710>"
      ]
     },
     "metadata": {},
     "output_type": "display_data"
    }
   ],
   "source": [
    "plt.figure(0)\n",
    "plt.imshow(X_train[90].reshape((28, 28)), cmap='gray', interpolation='none')\n",
    "print y_train[90]\n",
    "plt.show()"
   ]
  },
  {
   "cell_type": "code",
   "execution_count": 36,
   "metadata": {
    "scrolled": true
   },
   "outputs": [
    {
     "name": "stdout",
     "output_type": "stream",
     "text": [
      "86.75\n"
     ]
    }
   ],
   "source": [
    "def get_acc(kx):\n",
    "    preds = []\n",
    "    # print kx\n",
    "    for ix in range(X_test.shape[0]):\n",
    "        start = datetime.datetime.now()\n",
    "        preds.append(knn(X_train, y_train, X_test[ix], k=kx))\n",
    "        # print datetime.datetime.now() - start\n",
    "    preds = np.asarray(preds)\n",
    "    \n",
    "    # print preds.shape\n",
    "    return 100*float((y_test == preds).sum())/preds.shape[0]\n",
    "\n",
    "print get_acc(kx=15) # k =15 % MNIST dataset --> 99.5% "
   ]
  },
  {
   "cell_type": "code",
   "execution_count": null,
   "metadata": {
    "collapsed": true
   },
   "outputs": [],
   "source": []
  }
 ],
 "metadata": {
  "kernelspec": {
   "display_name": "Python 3",
   "language": "python",
   "name": "python3"
  },
  "language_info": {
   "codemirror_mode": {
    "name": "ipython",
    "version": 3
   },
   "file_extension": ".py",
   "mimetype": "text/x-python",
   "name": "python",
   "nbconvert_exporter": "python",
   "pygments_lexer": "ipython3",
   "version": "3.6.5"
  }
 },
 "nbformat": 4,
 "nbformat_minor": 2
}
